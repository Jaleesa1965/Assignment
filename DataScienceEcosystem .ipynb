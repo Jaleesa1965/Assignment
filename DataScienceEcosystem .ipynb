{
 "cells": [
  {
   "cell_type": "markdown",
   "id": "7a59d96c-994a-4212-a53f-45759a84ab4c",
   "metadata": {},
   "source": [
    "<h1> Data Science Tools and Ecosystem </h1>"
   ]
  },
  {
   "cell_type": "markdown",
   "id": "f02b9d20-bb07-4cc4-9d4a-cc321a87d4ac",
   "metadata": {},
   "source": [
    "In this notebook, Data Science Tools and Ecosystem are summarized."
   ]
  },
  {
   "cell_type": "markdown",
   "id": "17a03905-e835-4bb2-b966-540486974ec5",
   "metadata": {},
   "source": [
    "**Objectives**\n",
    "-  List popular languages for Data Science\n",
    "-  List popular development environments. \n",
    "-  Evaluate arithmetic expressions. "
   ]
  },
  {
   "cell_type": "markdown",
   "id": "5c733208-511c-431e-b2c5-a9bcec87c4c3",
   "metadata": {},
   "source": [
    "Some of the popular languages that Data Scientists use are: \n",
    "1. Python\n",
    "2. R\n",
    "1. SQL"
   ]
  },
  {
   "cell_type": "markdown",
   "id": "fc81ea9b-640a-4d27-9e5f-01bed6cc5741",
   "metadata": {},
   "source": [
    "Some of the commonly used libraries used by Data Scientists include\n",
    "\n",
    "1. NumPy\n",
    "2. SciPy\n",
    "3. Pandas\n",
    "4. TendorFlow"
   ]
  },
  {
   "cell_type": "markdown",
   "id": "35635d60-aa48-4cde-8afc-9221ff7fab94",
   "metadata": {},
   "source": [
    "|Data Science Tools|\n",
    "|----|\n",
    "|Jupyter|\n",
    "|R Studio|\n",
    "|Spyder|"
   ]
  },
  {
   "cell_type": "markdown",
   "id": "2e5bc4ba-bf87-4f05-ac58-3e55c53b6258",
   "metadata": {},
   "source": [
    "<h3> Below are a few examples of evaluating arithmetic expressions in Python. </h3>"
   ]
  },
  {
   "cell_type": "code",
   "execution_count": 7,
   "id": "65d34801-b084-4180-b5d6-f1a16250f192",
   "metadata": {},
   "outputs": [
    {
     "data": {
      "text/plain": [
       "17"
      ]
     },
     "execution_count": 7,
     "metadata": {},
     "output_type": "execute_result"
    }
   ],
   "source": [
    "# This is a simple arithmetic expression to multiply then add integers.\n",
    "(3*4)+5"
   ]
  },
  {
   "cell_type": "code",
   "execution_count": 16,
   "id": "2979ff32-e0fc-4069-9a72-2aa5ae67abbe",
   "metadata": {},
   "outputs": [
    {
     "name": "stdout",
     "output_type": "stream",
     "text": [
      "3\n"
     ]
    }
   ],
   "source": [
    "# This will convert 200 minutes to hours by dividing by 60.\n",
    "total_minutes = 200\n",
    "\n",
    "hours = total_minutes // 60\n",
    "\n",
    "print(hours)"
   ]
  },
  {
   "cell_type": "markdown",
   "id": "bf5016dd-9c1a-4bea-824f-013d1fa0b29b",
   "metadata": {
    "tags": []
   },
   "source": [
    "<h2> Author </h2>\n",
    "Jaleesa Russell"
   ]
  },
  {
   "cell_type": "code",
   "execution_count": null,
   "id": "26a961ac-b6f6-4bd4-88ed-89857b66cce0",
   "metadata": {},
   "outputs": [],
   "source": []
  }
 ],
 "metadata": {
  "kernelspec": {
   "display_name": "Python",
   "language": "python",
   "name": "conda-env-python-py"
  },
  "language_info": {
   "codemirror_mode": {
    "name": "ipython",
    "version": 3
   },
   "file_extension": ".py",
   "mimetype": "text/x-python",
   "name": "python",
   "nbconvert_exporter": "python",
   "pygments_lexer": "ipython3",
   "version": "3.7.12"
  }
 },
 "nbformat": 4,
 "nbformat_minor": 5
}
